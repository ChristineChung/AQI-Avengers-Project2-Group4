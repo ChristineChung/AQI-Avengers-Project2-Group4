{
 "cells": [
  {
   "cell_type": "markdown",
   "metadata": {},
   "source": [
    "# Air Quality"
   ]
  },
  {
   "cell_type": "code",
   "execution_count": 1,
   "metadata": {},
   "outputs": [],
   "source": [
    "# Import dependencies\n",
    "import requests\n",
    "import json\n",
    "import os\n",
    "import pandas as pd\n",
    "import numpy as np\n",
    "\n",
    "from dotenv import load_dotenv\n",
    "from sklearn.ensemble import RandomForestRegressor\n",
    "from sklearn.metrics import mean_squared_error, r2_score\n",
    "from sklearn.model_selection import train_test_split"
   ]
  },
  {
   "cell_type": "markdown",
   "metadata": {},
   "source": [
    "## EDA"
   ]
  },
  {
   "cell_type": "markdown",
   "metadata": {},
   "source": [
    "### Data Collection using API"
   ]
  },
  {
   "cell_type": "code",
   "execution_count": 2,
   "metadata": {},
   "outputs": [],
   "source": [
    "load_dotenv()\n",
    "epa_api_key = os.getenv(\"EPA_API_KEY\")\n",
    "my_email = os.getenv(\"EMAIL\")"
   ]
  },
  {
   "cell_type": "code",
   "execution_count": 3,
   "metadata": {},
   "outputs": [],
   "source": [
    "def get_data(years, param):\n",
    "    # Create a dataframe to hold the values\n",
    "    df = pd.DataFrame\n",
    "    # Loop through the years\n",
    "    for year in years:\n",
    "        # Display year being downloaded\n",
    "        print(f\"Downloading data for {year}\")\n",
    "        # URL attributes\n",
    "        url = \"https://aqs.epa.gov/data/api/dailyData/byState?\"\n",
    "        begin_date = str(year) + \"0101\"\n",
    "        end_date = str(year) + \"1231\"\n",
    "        state = \"36\"\n",
    "        # Build the URL\n",
    "        query_url = (f\"{url}email={my_email}&key={epa_api_key}&param={param}\"\n",
    "                     + f\"&bdate={begin_date}&edate={end_date}&state={state}\")\n",
    "        # Get a response and convert it into json\n",
    "        response = requests.get(query_url).json()\n",
    "        # Check if dataframe is empty\n",
    "        if df.empty:\n",
    "            df = pd.DataFrame(response['Data'])\n",
    "        else:\n",
    "            # Concatenate the dataframe with the response\n",
    "            df = pd.concat([df,pd.DataFrame(response['Data'])], axis=0)\n",
    "    # Return the dataframe        \n",
    "    return df"
   ]
  },
  {
   "cell_type": "code",
   "execution_count": 4,
   "metadata": {},
   "outputs": [],
   "source": [
    "# Attributes for downloading data\n",
    "years = ['2024','2023','2022','2021','2020','2019','2018','2017','2016','2015','2014','2013']\n",
    "pm_parameters = '88502,88101,81102'\n",
    "pollutant_parameters = '42401,42101,42602,44201'"
   ]
  },
  {
   "cell_type": "code",
   "execution_count": 5,
   "metadata": {},
   "outputs": [
    {
     "name": "stdout",
     "output_type": "stream",
     "text": [
      "Downloading data for 2024\n"
     ]
    },
    {
     "ename": "KeyError",
     "evalue": "'Data'",
     "output_type": "error",
     "traceback": [
      "\u001b[0;31m---------------------------------------------------------------------------\u001b[0m",
      "\u001b[0;31mKeyError\u001b[0m                                  Traceback (most recent call last)",
      "Cell \u001b[0;32mIn[5], line 2\u001b[0m\n\u001b[1;32m      1\u001b[0m \u001b[38;5;66;03m# Get PM data\u001b[39;00m\n\u001b[0;32m----> 2\u001b[0m pm_df \u001b[38;5;241m=\u001b[39m get_data(years, pm_parameters)\n",
      "Cell \u001b[0;32mIn[3], line 20\u001b[0m, in \u001b[0;36mget_data\u001b[0;34m(years, param)\u001b[0m\n\u001b[1;32m     18\u001b[0m \u001b[38;5;66;03m# Check if dataframe is empty\u001b[39;00m\n\u001b[1;32m     19\u001b[0m \u001b[38;5;28;01mif\u001b[39;00m df\u001b[38;5;241m.\u001b[39mempty:\n\u001b[0;32m---> 20\u001b[0m     df \u001b[38;5;241m=\u001b[39m pd\u001b[38;5;241m.\u001b[39mDataFrame(response[\u001b[38;5;124m'\u001b[39m\u001b[38;5;124mData\u001b[39m\u001b[38;5;124m'\u001b[39m])\n\u001b[1;32m     21\u001b[0m \u001b[38;5;28;01melse\u001b[39;00m:\n\u001b[1;32m     22\u001b[0m     \u001b[38;5;66;03m# Concatenate the dataframe with the response\u001b[39;00m\n\u001b[1;32m     23\u001b[0m     df \u001b[38;5;241m=\u001b[39m pd\u001b[38;5;241m.\u001b[39mconcat([df,pd\u001b[38;5;241m.\u001b[39mDataFrame(response[\u001b[38;5;124m'\u001b[39m\u001b[38;5;124mData\u001b[39m\u001b[38;5;124m'\u001b[39m])], axis\u001b[38;5;241m=\u001b[39m\u001b[38;5;241m0\u001b[39m)\n",
      "\u001b[0;31mKeyError\u001b[0m: 'Data'"
     ]
    }
   ],
   "source": [
    "# Get PM data\n",
    "pm_df = get_data(years, pm_parameters)"
   ]
  },
  {
   "cell_type": "code",
   "execution_count": null,
   "metadata": {},
   "outputs": [
    {
     "ename": "",
     "evalue": "",
     "output_type": "error",
     "traceback": [
      "\u001b[1;31mFailed to start the Kernel. \n",
      "\u001b[1;31mEPERM: operation not permitted, scandir '/Users/christinechung/Library/Messages/Attachments/13/03/6798654C-1275-43F7-A87A-B0949D091A97'. \n",
      "\u001b[1;31mView Jupyter <a href='command:jupyter.viewOutput'>log</a> for further details."
     ]
    }
   ],
   "source": [
    "# Get Pollutant data\n",
    "pollutant_df = get_data(years, pollutant_parameters)"
   ]
  },
  {
   "cell_type": "code",
   "execution_count": null,
   "metadata": {},
   "outputs": [
    {
     "ename": "",
     "evalue": "",
     "output_type": "error",
     "traceback": [
      "\u001b[1;31mFailed to start the Kernel. \n",
      "\u001b[1;31mEPERM: operation not permitted, scandir '/Users/christinechung/Library/Messages/Attachments/13/03/6798654C-1275-43F7-A87A-B0949D091A97'. \n",
      "\u001b[1;31mView Jupyter <a href='command:jupyter.viewOutput'>log</a> for further details."
     ]
    }
   ],
   "source": [
    "# Combined dataframe\n",
    "combined_df = pd.concat([pm_df, pollutant_df]).reset_index(drop=True)"
   ]
  },
  {
   "cell_type": "code",
   "execution_count": null,
   "metadata": {},
   "outputs": [
    {
     "ename": "",
     "evalue": "",
     "output_type": "error",
     "traceback": [
      "\u001b[1;31mFailed to start the Kernel. \n",
      "\u001b[1;31mEPERM: operation not permitted, scandir '/Users/christinechung/Library/Messages/Attachments/13/03/6798654C-1275-43F7-A87A-B0949D091A97'. \n",
      "\u001b[1;31mView Jupyter <a href='command:jupyter.viewOutput'>log</a> for further details."
     ]
    }
   ],
   "source": [
    "# View the dataframe\n",
    "combined_df.head()"
   ]
  },
  {
   "cell_type": "code",
   "execution_count": null,
   "metadata": {},
   "outputs": [
    {
     "ename": "",
     "evalue": "",
     "output_type": "error",
     "traceback": [
      "\u001b[1;31mFailed to start the Kernel. \n",
      "\u001b[1;31mEPERM: operation not permitted, scandir '/Users/christinechung/Library/Messages/Attachments/13/03/6798654C-1275-43F7-A87A-B0949D091A97'. \n",
      "\u001b[1;31mView Jupyter <a href='command:jupyter.viewOutput'>log</a> for further details."
     ]
    }
   ],
   "source": [
    "# View the shape\n",
    "combined_df.shape"
   ]
  },
  {
   "cell_type": "code",
   "execution_count": null,
   "metadata": {},
   "outputs": [
    {
     "ename": "",
     "evalue": "",
     "output_type": "error",
     "traceback": [
      "\u001b[1;31mFailed to start the Kernel. \n",
      "\u001b[1;31mEPERM: operation not permitted, scandir '/Users/christinechung/Library/Messages/Attachments/13/03/6798654C-1275-43F7-A87A-B0949D091A97'. \n",
      "\u001b[1;31mView Jupyter <a href='command:jupyter.viewOutput'>log</a> for further details."
     ]
    }
   ],
   "source": [
    "# Check null values\n",
    "combined_df.isnull().sum()"
   ]
  },
  {
   "cell_type": "code",
   "execution_count": null,
   "metadata": {},
   "outputs": [
    {
     "ename": "",
     "evalue": "",
     "output_type": "error",
     "traceback": [
      "\u001b[1;31mFailed to start the Kernel. \n",
      "\u001b[1;31mEPERM: operation not permitted, scandir '/Users/christinechung/Library/Messages/Attachments/13/03/6798654C-1275-43F7-A87A-B0949D091A97'. \n",
      "\u001b[1;31mView Jupyter <a href='command:jupyter.viewOutput'>log</a> for further details."
     ]
    }
   ],
   "source": [
    "# Check data types\n",
    "combined_df.dtypes"
   ]
  },
  {
   "cell_type": "markdown",
   "metadata": {},
   "source": [
    "### Clean the Data"
   ]
  },
  {
   "cell_type": "code",
   "execution_count": null,
   "metadata": {},
   "outputs": [
    {
     "ename": "",
     "evalue": "",
     "output_type": "error",
     "traceback": [
      "\u001b[1;31mFailed to start the Kernel. \n",
      "\u001b[1;31mEPERM: operation not permitted, scandir '/Users/christinechung/Library/Messages/Attachments/13/03/6798654C-1275-43F7-A87A-B0949D091A97'. \n",
      "\u001b[1;31mView Jupyter <a href='command:jupyter.viewOutput'>log</a> for further details."
     ]
    }
   ],
   "source": [
    "# Filter the data to keep the relevant columns\n",
    "combined_df = combined_df[['county_code', 'parameter_code', 'parameter', 'latitude', 'longitude', 'sample_duration_code', \n",
    "                    'pollutant_standard','date_local','units_of_measure', 'observation_count', \n",
    "                    'validity_indicator', 'arithmetic_mean','first_max_value','first_max_hour', 'aqi', 'county', 'city']]\n",
    "# View the head of the dataframe\n",
    "combined_df.head()"
   ]
  },
  {
   "cell_type": "code",
   "execution_count": null,
   "metadata": {},
   "outputs": [
    {
     "ename": "",
     "evalue": "",
     "output_type": "error",
     "traceback": [
      "\u001b[1;31mFailed to start the Kernel. \n",
      "\u001b[1;31mEPERM: operation not permitted, scandir '/Users/christinechung/Library/Messages/Attachments/13/03/6798654C-1275-43F7-A87A-B0949D091A97'. \n",
      "\u001b[1;31mView Jupyter <a href='command:jupyter.viewOutput'>log</a> for further details."
     ]
    }
   ],
   "source": [
    "# Check the null values\n",
    "combined_df.isnull().sum()"
   ]
  },
  {
   "cell_type": "code",
   "execution_count": null,
   "metadata": {},
   "outputs": [
    {
     "ename": "",
     "evalue": "",
     "output_type": "error",
     "traceback": [
      "\u001b[1;31mFailed to start the Kernel. \n",
      "\u001b[1;31mEPERM: operation not permitted, scandir '/Users/christinechung/Library/Messages/Attachments/13/03/6798654C-1275-43F7-A87A-B0949D091A97'. \n",
      "\u001b[1;31mView Jupyter <a href='command:jupyter.viewOutput'>log</a> for further details."
     ]
    }
   ],
   "source": [
    "# Get unique county names under the column 'county'\n",
    "unique_counties = combined_df['county'].unique()\n",
    "# View the counties\n",
    "unique_counties"
   ]
  },
  {
   "cell_type": "code",
   "execution_count": null,
   "metadata": {},
   "outputs": [
    {
     "ename": "",
     "evalue": "",
     "output_type": "error",
     "traceback": [
      "\u001b[1;31mFailed to start the Kernel. \n",
      "\u001b[1;31mEPERM: operation not permitted, scandir '/Users/christinechung/Library/Messages/Attachments/13/03/6798654C-1275-43F7-A87A-B0949D091A97'. \n",
      "\u001b[1;31mView Jupyter <a href='command:jupyter.viewOutput'>log</a> for further details."
     ]
    }
   ],
   "source": [
    "# Drop the counties that are not required\n",
    "# Define object names to drop\n",
    "names_to_drop = ['Monroe','Erie', 'Hamilton', 'St. Lawrence' ,'Essex' ,'Steuben'\n",
    " ,'Albany', 'Chautauqua', 'Dutchess' ,'Putnam' ,'Onondaga'\n",
    " , 'Herkimer' ,'Tompkins', 'Seneca' ,'Franklin', 'Rockland',\n",
    " 'Westchester' , 'Oneida' ,'Orange' , 'Jefferson',\n",
    " 'Niagara', 'Oswego', 'Saratoga', 'Wayne']\n",
    "\n",
    "# Drop rows where 'Column1' contains specific object names\n",
    "combined_df = combined_df[~combined_df['county'].isin(names_to_drop)]\n",
    "\n",
    "# Print the DataFrame after dropping rows\n",
    "combined_df.head()"
   ]
  },
  {
   "cell_type": "code",
   "execution_count": null,
   "metadata": {},
   "outputs": [
    {
     "ename": "",
     "evalue": "",
     "output_type": "error",
     "traceback": [
      "\u001b[1;31mFailed to start the Kernel. \n",
      "\u001b[1;31mEPERM: operation not permitted, scandir '/Users/christinechung/Library/Messages/Attachments/13/03/6798654C-1275-43F7-A87A-B0949D091A97'. \n",
      "\u001b[1;31mView Jupyter <a href='command:jupyter.viewOutput'>log</a> for further details."
     ]
    }
   ],
   "source": [
    "# Convert date_local to datetime , extract the year and add to the dataframe\n",
    "combined_df['date_local'] = pd.to_datetime(combined_df['date_local'].copy())\n",
    "combined_df['year'] = combined_df['date_local'].dt.year\n",
    "combined_df"
   ]
  },
  {
   "cell_type": "code",
   "execution_count": null,
   "metadata": {},
   "outputs": [
    {
     "ename": "",
     "evalue": "",
     "output_type": "error",
     "traceback": [
      "\u001b[1;31mFailed to start the Kernel. \n",
      "\u001b[1;31mEPERM: operation not permitted, scandir '/Users/christinechung/Library/Messages/Attachments/13/03/6798654C-1275-43F7-A87A-B0949D091A97'. \n",
      "\u001b[1;31mView Jupyter <a href='command:jupyter.viewOutput'>log</a> for further details."
     ]
    }
   ],
   "source": [
    "combined_df.set_index('date_local', inplace=True)"
   ]
  },
  {
   "cell_type": "code",
   "execution_count": null,
   "metadata": {},
   "outputs": [
    {
     "ename": "",
     "evalue": "",
     "output_type": "error",
     "traceback": [
      "\u001b[1;31mFailed to start the Kernel. \n",
      "\u001b[1;31mEPERM: operation not permitted, scandir '/Users/christinechung/Library/Messages/Attachments/13/03/6798654C-1275-43F7-A87A-B0949D091A97'. \n",
      "\u001b[1;31mView Jupyter <a href='command:jupyter.viewOutput'>log</a> for further details."
     ]
    }
   ],
   "source": [
    "#To fill the missing AQI score values in the provided code, we used imputation techniques. \n",
    "#Based on the nature of air quality data, which often has temporal and spatial dependencies, we useds a combination of methods. \n",
    "\n",
    "#1. Forward fill and backward fill:\n",
    "# First, we’ll use forward fill and backward fill methods to handle missing values that occur in time series data.\n",
    "\n",
    "# Forward fill and backward fill\n",
    "combined_df['aqi'] = combined_df['aqi'].fillna(method='ffill').fillna(method='bfill')\n",
    "\n",
    "#2. Interpolation:\n",
    "#For any remaining missing values, we can use interpolation, which is particularly useful for time series data.\n",
    "combined_df['aqi'] = combined_df['aqi'].interpolate(method='time')\n",
    "\n",
    "#3. Mean imputation by category:\n",
    "# If there are still missing values after the above steps, we can use mean imputation based on categories like ‘County’ and ‘date_local’.\n",
    "# Group by relevant categories and fill with mean\n",
    "combined_df['aqi'] = combined_df.groupby(['county','date_local'])['aqi'].transform(lambda x: x.fillna(x.mean()))\n",
    "\n",
    "# 4. Overall mean imputation:\n",
    "# As a last resort, fill any remaining missing values with the overall mean.\n",
    "combined_df['aqi'] = combined_df['aqi'].fillna(combined_df['aqi'].mean())\n",
    "\n",
    "# # Check for missing values\n",
    "print(\"Missing values before imputation:\")\n",
    "print(combined_df.isnull().sum())\n"
   ]
  },
  {
   "cell_type": "code",
   "execution_count": null,
   "metadata": {},
   "outputs": [
    {
     "ename": "",
     "evalue": "",
     "output_type": "error",
     "traceback": [
      "\u001b[1;31mFailed to start the Kernel. \n",
      "\u001b[1;31mEPERM: operation not permitted, scandir '/Users/christinechung/Library/Messages/Attachments/13/03/6798654C-1275-43F7-A87A-B0949D091A97'. \n",
      "\u001b[1;31mView Jupyter <a href='command:jupyter.viewOutput'>log</a> for further details."
     ]
    }
   ],
   "source": [
    "# dropped \"pollutant_standard\" post discussion with the team and decision that it's irrelevant to the modelling dataset we need\n",
    "combined_df = combined_df.drop('pollutant_standard', axis=1)\n",
    "combined_df.isnull().sum()"
   ]
  },
  {
   "cell_type": "code",
   "execution_count": null,
   "metadata": {},
   "outputs": [
    {
     "ename": "",
     "evalue": "",
     "output_type": "error",
     "traceback": [
      "\u001b[1;31mFailed to start the Kernel. \n",
      "\u001b[1;31mEPERM: operation not permitted, scandir '/Users/christinechung/Library/Messages/Attachments/13/03/6798654C-1275-43F7-A87A-B0949D091A97'. \n",
      "\u001b[1;31mView Jupyter <a href='command:jupyter.viewOutput'>log</a> for further details."
     ]
    }
   ],
   "source": [
    "#resetted index for date_local\n",
    "combined_df.reset_index(inplace=True)"
   ]
  },
  {
   "cell_type": "code",
   "execution_count": null,
   "metadata": {},
   "outputs": [
    {
     "ename": "",
     "evalue": "",
     "output_type": "error",
     "traceback": [
      "\u001b[1;31mFailed to start the Kernel. \n",
      "\u001b[1;31mEPERM: operation not permitted, scandir '/Users/christinechung/Library/Messages/Attachments/13/03/6798654C-1275-43F7-A87A-B0949D091A97'. \n",
      "\u001b[1;31mView Jupyter <a href='command:jupyter.viewOutput'>log</a> for further details."
     ]
    }
   ],
   "source": [
    "#dropped additional irrelevant columns post discussion with the team and decision that it's irrelevant to the modelling dataset we need\n",
    "combined_df = combined_df.drop(['parameter','sample_duration_code', 'units_of_measure','validity_indicator',\\\n",
    "                                                        'first_max_value','first_max_hour','county', 'city'], axis=1)\n",
    "combined_df.isnull().sum()"
   ]
  },
  {
   "cell_type": "code",
   "execution_count": null,
   "metadata": {},
   "outputs": [
    {
     "ename": "",
     "evalue": "",
     "output_type": "error",
     "traceback": [
      "\u001b[1;31mFailed to start the Kernel. \n",
      "\u001b[1;31mEPERM: operation not permitted, scandir '/Users/christinechung/Library/Messages/Attachments/13/03/6798654C-1275-43F7-A87A-B0949D091A97'. \n",
      "\u001b[1;31mView Jupyter <a href='command:jupyter.viewOutput'>log</a> for further details."
     ]
    }
   ],
   "source": [
    "##Preprocess the data for Modelling"
   ]
  },
  {
   "cell_type": "code",
   "execution_count": null,
   "metadata": {},
   "outputs": [
    {
     "ename": "",
     "evalue": "",
     "output_type": "error",
     "traceback": [
      "\u001b[1;31mFailed to start the Kernel. \n",
      "\u001b[1;31mEPERM: operation not permitted, scandir '/Users/christinechung/Library/Messages/Attachments/13/03/6798654C-1275-43F7-A87A-B0949D091A97'. \n",
      "\u001b[1;31mView Jupyter <a href='command:jupyter.viewOutput'>log</a> for further details."
     ]
    }
   ],
   "source": [
    "combined_df.info()"
   ]
  },
  {
   "cell_type": "code",
   "execution_count": null,
   "metadata": {},
   "outputs": [
    {
     "ename": "",
     "evalue": "",
     "output_type": "error",
     "traceback": [
      "\u001b[1;31mFailed to start the Kernel. \n",
      "\u001b[1;31mEPERM: operation not permitted, scandir '/Users/christinechung/Library/Messages/Attachments/13/03/6798654C-1275-43F7-A87A-B0949D091A97'. \n",
      "\u001b[1;31mView Jupyter <a href='command:jupyter.viewOutput'>log</a> for further details."
     ]
    }
   ],
   "source": [
    "combined_df['date_local'] = combined_df['date_local'].astype('datetime64[ns]').astype(np.int64)\n",
    "combined_df.head()"
   ]
  },
  {
   "cell_type": "code",
   "execution_count": null,
   "metadata": {},
   "outputs": [
    {
     "ename": "",
     "evalue": "",
     "output_type": "error",
     "traceback": [
      "\u001b[1;31mFailed to start the Kernel. \n",
      "\u001b[1;31mEPERM: operation not permitted, scandir '/Users/christinechung/Library/Messages/Attachments/13/03/6798654C-1275-43F7-A87A-B0949D091A97'. \n",
      "\u001b[1;31mView Jupyter <a href='command:jupyter.viewOutput'>log</a> for further details."
     ]
    }
   ],
   "source": [
    "#Get the target variable\n",
    "y = combined_df['aqi']"
   ]
  },
  {
   "cell_type": "code",
   "execution_count": null,
   "metadata": {},
   "outputs": [
    {
     "ename": "",
     "evalue": "",
     "output_type": "error",
     "traceback": [
      "\u001b[1;31mFailed to start the Kernel. \n",
      "\u001b[1;31mEPERM: operation not permitted, scandir '/Users/christinechung/Library/Messages/Attachments/13/03/6798654C-1275-43F7-A87A-B0949D091A97'. \n",
      "\u001b[1;31mView Jupyter <a href='command:jupyter.viewOutput'>log</a> for further details."
     ]
    }
   ],
   "source": [
    "#Get the features i.e. everything except 'aqi' column\n",
    "X = combined_df\\\n",
    "        .copy()\\\n",
    "        .drop(columns=\"aqi\")"
   ]
  },
  {
   "cell_type": "code",
   "execution_count": null,
   "metadata": {},
   "outputs": [
    {
     "ename": "",
     "evalue": "",
     "output_type": "error",
     "traceback": [
      "\u001b[1;31mFailed to start the Kernel. \n",
      "\u001b[1;31mEPERM: operation not permitted, scandir '/Users/christinechung/Library/Messages/Attachments/13/03/6798654C-1275-43F7-A87A-B0949D091A97'. \n",
      "\u001b[1;31mView Jupyter <a href='command:jupyter.viewOutput'>log</a> for further details."
     ]
    }
   ],
   "source": [
    "## Split the Data into Training and Testing Sets"
   ]
  },
  {
   "cell_type": "code",
   "execution_count": null,
   "metadata": {},
   "outputs": [
    {
     "ename": "",
     "evalue": "",
     "output_type": "error",
     "traceback": [
      "\u001b[1;31mFailed to start the Kernel. \n",
      "\u001b[1;31mEPERM: operation not permitted, scandir '/Users/christinechung/Library/Messages/Attachments/13/03/6798654C-1275-43F7-A87A-B0949D091A97'. \n",
      "\u001b[1;31mView Jupyter <a href='command:jupyter.viewOutput'>log</a> for further details."
     ]
    }
   ],
   "source": [
    "# Split data into training and testing\n",
    "X_train, X_test, y_train, y_test = train_test_split(X, y, random_state=42)"
   ]
  },
  {
   "cell_type": "code",
   "execution_count": null,
   "metadata": {},
   "outputs": [
    {
     "ename": "",
     "evalue": "",
     "output_type": "error",
     "traceback": [
      "\u001b[1;31mFailed to start the Kernel. \n",
      "\u001b[1;31mEPERM: operation not permitted, scandir '/Users/christinechung/Library/Messages/Attachments/13/03/6798654C-1275-43F7-A87A-B0949D091A97'. \n",
      "\u001b[1;31mView Jupyter <a href='command:jupyter.viewOutput'>log</a> for further details."
     ]
    }
   ],
   "source": [
    "regr = RandomForestRegressor()\n",
    "regr.fit(X_train, y_train)"
   ]
  },
  {
   "cell_type": "code",
   "execution_count": null,
   "metadata": {},
   "outputs": [
    {
     "ename": "",
     "evalue": "",
     "output_type": "error",
     "traceback": [
      "\u001b[1;31mFailed to start the Kernel. \n",
      "\u001b[1;31mEPERM: operation not permitted, scandir '/Users/christinechung/Library/Messages/Attachments/13/03/6798654C-1275-43F7-A87A-B0949D091A97'. \n",
      "\u001b[1;31mView Jupyter <a href='command:jupyter.viewOutput'>log</a> for further details."
     ]
    }
   ],
   "source": [
    "# Use our models to make predictions\n",
    "predicted = regr.predict(X_test)\n",
    "\n",
    "# Score the predictions with mse and r2\n",
    "mse = mean_squared_error(y_test, predicted)\n",
    "r2 = r2_score(y_test, predicted)\n",
    "\n",
    "print(f\"All Features:\")\n",
    "print(f\"mean squared error (MSE): {mse}\")\n",
    "print(f\"R-squared (R2): {r2}\")"
   ]
  },
  {
   "cell_type": "code",
   "execution_count": null,
   "metadata": {},
   "outputs": [
    {
     "ename": "",
     "evalue": "",
     "output_type": "error",
     "traceback": [
      "\u001b[1;31mFailed to start the Kernel. \n",
      "\u001b[1;31mEPERM: operation not permitted, scandir '/Users/christinechung/Library/Messages/Attachments/13/03/6798654C-1275-43F7-A87A-B0949D091A97'. \n",
      "\u001b[1;31mView Jupyter <a href='command:jupyter.viewOutput'>log</a> for further details."
     ]
    }
   ],
   "source": []
  }
 ],
 "metadata": {
  "kernelspec": {
   "display_name": "ai_dev",
   "language": "python",
   "name": "ai_dev"
  },
  "language_info": {
   "codemirror_mode": {
    "name": "ipython",
    "version": 3
   },
   "file_extension": ".py",
   "mimetype": "text/x-python",
   "name": "python",
   "nbconvert_exporter": "python",
   "pygments_lexer": "ipython3",
   "version": "3.1.-1"
  }
 },
 "nbformat": 4,
 "nbformat_minor": 4
}
