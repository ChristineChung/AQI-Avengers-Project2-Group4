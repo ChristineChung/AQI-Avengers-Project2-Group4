{
 "cells": [
  {
   "cell_type": "code",
   "execution_count": 1,
   "metadata": {
    "executionInfo": {
     "elapsed": 191,
     "status": "ok",
     "timestamp": 1719952015021,
     "user": {
      "displayName": "Chearine P",
      "userId": "14540736819828601911"
     },
     "user_tz": 240
    },
    "id": "FmHYGorUCvSb"
   },
   "outputs": [],
   "source": [
    "# Importing the required libraries and dependencies\n",
    "import pandas as pd"
   ]
  },
  {
   "cell_type": "code",
   "execution_count": 2,
   "metadata": {
    "colab": {
     "base_uri": "https://localhost:8080/"
    },
    "executionInfo": {
     "elapsed": 40933,
     "status": "ok",
     "timestamp": 1719962921818,
     "user": {
      "displayName": "Chearine P",
      "userId": "14540736819828601911"
     },
     "user_tz": 240
    },
    "id": "92oQiUNVDeas",
    "outputId": "4dd86107-74cb-4839-a2d9-e7ef0a8a9d0b"
   },
   "outputs": [],
   "source": [
    "# *FOR GOOGLE COLAB* - Import the `files` library to allow files upload\n",
    "#from google.colab import files"
   ]
  },
  {
   "cell_type": "code",
   "execution_count": 3,
   "metadata": {
    "colab": {
     "base_uri": "https://localhost:8080/",
     "height": 73
    },
    "executionInfo": {
     "elapsed": 43296,
     "status": "ok",
     "timestamp": 1719952071774,
     "user": {
      "displayName": "Chearine P",
      "userId": "14540736819828601911"
     },
     "user_tz": 240
    },
    "id": "hIv-oqiCGxEJ",
    "outputId": "6998cf50-b3d0-42ad-c5f0-52f38c0aa541"
   },
   "outputs": [],
   "source": [
    "# *FOR GOOGLE COLAB* - Upload \"consolidated_seven_ny_counties.csv\" into Colab, then store in a DataFrame\n",
    "#uploaded = files.upload()"
   ]
  },
  {
   "cell_type": "code",
   "execution_count": 4,
   "metadata": {
    "colab": {
     "base_uri": "https://localhost:8080/",
     "height": 374
    },
    "executionInfo": {
     "elapsed": 894,
     "status": "ok",
     "timestamp": 1719956552871,
     "user": {
      "displayName": "Chearine P",
      "userId": "14540736819828601911"
     },
     "user_tz": 240
    },
    "id": "WTW0eQ_kHYEw",
    "outputId": "8f8f9758-7634-430c-8d07-becd57466456"
   },
   "outputs": [
    {
     "data": {
      "text/html": [
       "<div>\n",
       "<style scoped>\n",
       "    .dataframe tbody tr th:only-of-type {\n",
       "        vertical-align: middle;\n",
       "    }\n",
       "\n",
       "    .dataframe tbody tr th {\n",
       "        vertical-align: top;\n",
       "    }\n",
       "\n",
       "    .dataframe thead th {\n",
       "        text-align: right;\n",
       "    }\n",
       "</style>\n",
       "<table border=\"1\" class=\"dataframe\">\n",
       "  <thead>\n",
       "    <tr style=\"text-align: right;\">\n",
       "      <th></th>\n",
       "      <th>county_code</th>\n",
       "      <th>parameter_code</th>\n",
       "      <th>parameter</th>\n",
       "      <th>latitude</th>\n",
       "      <th>longitude</th>\n",
       "      <th>sample_duration_code</th>\n",
       "      <th>units_of_measure</th>\n",
       "      <th>observation_count</th>\n",
       "      <th>validity_indicator</th>\n",
       "      <th>arithmetic_mean</th>\n",
       "      <th>...</th>\n",
       "      <th>units_of_measure_81102</th>\n",
       "      <th>observation_count_81102</th>\n",
       "      <th>validity_indicator_81102</th>\n",
       "      <th>arithmetic_mean_81102</th>\n",
       "      <th>first_max_value_81102</th>\n",
       "      <th>first_max_hour_81102</th>\n",
       "      <th>aqi_81102</th>\n",
       "      <th>county_81102</th>\n",
       "      <th>city_81102</th>\n",
       "      <th>aqi_max</th>\n",
       "    </tr>\n",
       "    <tr>\n",
       "      <th>date_local</th>\n",
       "      <th></th>\n",
       "      <th></th>\n",
       "      <th></th>\n",
       "      <th></th>\n",
       "      <th></th>\n",
       "      <th></th>\n",
       "      <th></th>\n",
       "      <th></th>\n",
       "      <th></th>\n",
       "      <th></th>\n",
       "      <th></th>\n",
       "      <th></th>\n",
       "      <th></th>\n",
       "      <th></th>\n",
       "      <th></th>\n",
       "      <th></th>\n",
       "      <th></th>\n",
       "      <th></th>\n",
       "      <th></th>\n",
       "      <th></th>\n",
       "      <th></th>\n",
       "    </tr>\n",
       "  </thead>\n",
       "  <tbody>\n",
       "    <tr>\n",
       "      <th>2013-01-01</th>\n",
       "      <td>5.0</td>\n",
       "      <td>42101.0</td>\n",
       "      <td>Carbon monoxide</td>\n",
       "      <td>40.8679</td>\n",
       "      <td>-73.87809</td>\n",
       "      <td>1</td>\n",
       "      <td>Parts per million</td>\n",
       "      <td>43.0</td>\n",
       "      <td>Y</td>\n",
       "      <td>0.534100</td>\n",
       "      <td>...</td>\n",
       "      <td>NaN</td>\n",
       "      <td>NaN</td>\n",
       "      <td>NaN</td>\n",
       "      <td>NaN</td>\n",
       "      <td>NaN</td>\n",
       "      <td>NaN</td>\n",
       "      <td>NaN</td>\n",
       "      <td>NaN</td>\n",
       "      <td>NaN</td>\n",
       "      <td>52.0</td>\n",
       "    </tr>\n",
       "    <tr>\n",
       "      <th>2013-01-02</th>\n",
       "      <td>5.0</td>\n",
       "      <td>42101.0</td>\n",
       "      <td>Carbon monoxide</td>\n",
       "      <td>40.8679</td>\n",
       "      <td>-73.87809</td>\n",
       "      <td>1</td>\n",
       "      <td>Parts per million</td>\n",
       "      <td>48.0</td>\n",
       "      <td>Y</td>\n",
       "      <td>0.427084</td>\n",
       "      <td>...</td>\n",
       "      <td>NaN</td>\n",
       "      <td>NaN</td>\n",
       "      <td>NaN</td>\n",
       "      <td>NaN</td>\n",
       "      <td>NaN</td>\n",
       "      <td>NaN</td>\n",
       "      <td>NaN</td>\n",
       "      <td>NaN</td>\n",
       "      <td>NaN</td>\n",
       "      <td>60.0</td>\n",
       "    </tr>\n",
       "    <tr>\n",
       "      <th>2013-01-03</th>\n",
       "      <td>5.0</td>\n",
       "      <td>42101.0</td>\n",
       "      <td>Carbon monoxide</td>\n",
       "      <td>40.8679</td>\n",
       "      <td>-73.87809</td>\n",
       "      <td>1</td>\n",
       "      <td>Parts per million</td>\n",
       "      <td>47.0</td>\n",
       "      <td>Y</td>\n",
       "      <td>0.500090</td>\n",
       "      <td>...</td>\n",
       "      <td>NaN</td>\n",
       "      <td>NaN</td>\n",
       "      <td>NaN</td>\n",
       "      <td>NaN</td>\n",
       "      <td>NaN</td>\n",
       "      <td>NaN</td>\n",
       "      <td>NaN</td>\n",
       "      <td>NaN</td>\n",
       "      <td>NaN</td>\n",
       "      <td>59.0</td>\n",
       "    </tr>\n",
       "    <tr>\n",
       "      <th>2013-01-04</th>\n",
       "      <td>5.0</td>\n",
       "      <td>42101.0</td>\n",
       "      <td>Carbon monoxide</td>\n",
       "      <td>40.8679</td>\n",
       "      <td>-73.87809</td>\n",
       "      <td>1</td>\n",
       "      <td>Parts per million</td>\n",
       "      <td>48.0</td>\n",
       "      <td>Y</td>\n",
       "      <td>0.579166</td>\n",
       "      <td>...</td>\n",
       "      <td>NaN</td>\n",
       "      <td>NaN</td>\n",
       "      <td>NaN</td>\n",
       "      <td>NaN</td>\n",
       "      <td>NaN</td>\n",
       "      <td>NaN</td>\n",
       "      <td>NaN</td>\n",
       "      <td>NaN</td>\n",
       "      <td>NaN</td>\n",
       "      <td>64.5</td>\n",
       "    </tr>\n",
       "    <tr>\n",
       "      <th>2013-01-05</th>\n",
       "      <td>5.0</td>\n",
       "      <td>42101.0</td>\n",
       "      <td>Carbon monoxide</td>\n",
       "      <td>40.8679</td>\n",
       "      <td>-73.87809</td>\n",
       "      <td>1</td>\n",
       "      <td>Parts per million</td>\n",
       "      <td>48.0</td>\n",
       "      <td>Y</td>\n",
       "      <td>0.643750</td>\n",
       "      <td>...</td>\n",
       "      <td>NaN</td>\n",
       "      <td>NaN</td>\n",
       "      <td>NaN</td>\n",
       "      <td>NaN</td>\n",
       "      <td>NaN</td>\n",
       "      <td>NaN</td>\n",
       "      <td>NaN</td>\n",
       "      <td>NaN</td>\n",
       "      <td>NaN</td>\n",
       "      <td>41.5</td>\n",
       "    </tr>\n",
       "  </tbody>\n",
       "</table>\n",
       "<p>5 rows × 106 columns</p>\n",
       "</div>"
      ],
      "text/plain": [
       "            county_code  parameter_code        parameter  latitude  longitude  \\\n",
       "date_local                                                                      \n",
       "2013-01-01          5.0         42101.0  Carbon monoxide   40.8679  -73.87809   \n",
       "2013-01-02          5.0         42101.0  Carbon monoxide   40.8679  -73.87809   \n",
       "2013-01-03          5.0         42101.0  Carbon monoxide   40.8679  -73.87809   \n",
       "2013-01-04          5.0         42101.0  Carbon monoxide   40.8679  -73.87809   \n",
       "2013-01-05          5.0         42101.0  Carbon monoxide   40.8679  -73.87809   \n",
       "\n",
       "           sample_duration_code   units_of_measure  observation_count  \\\n",
       "date_local                                                              \n",
       "2013-01-01                    1  Parts per million               43.0   \n",
       "2013-01-02                    1  Parts per million               48.0   \n",
       "2013-01-03                    1  Parts per million               47.0   \n",
       "2013-01-04                    1  Parts per million               48.0   \n",
       "2013-01-05                    1  Parts per million               48.0   \n",
       "\n",
       "           validity_indicator  arithmetic_mean  ...  units_of_measure_81102  \\\n",
       "date_local                                      ...                           \n",
       "2013-01-01                  Y         0.534100  ...                     NaN   \n",
       "2013-01-02                  Y         0.427084  ...                     NaN   \n",
       "2013-01-03                  Y         0.500090  ...                     NaN   \n",
       "2013-01-04                  Y         0.579166  ...                     NaN   \n",
       "2013-01-05                  Y         0.643750  ...                     NaN   \n",
       "\n",
       "            observation_count_81102  validity_indicator_81102  \\\n",
       "date_local                                                      \n",
       "2013-01-01                      NaN                       NaN   \n",
       "2013-01-02                      NaN                       NaN   \n",
       "2013-01-03                      NaN                       NaN   \n",
       "2013-01-04                      NaN                       NaN   \n",
       "2013-01-05                      NaN                       NaN   \n",
       "\n",
       "           arithmetic_mean_81102 first_max_value_81102  first_max_hour_81102  \\\n",
       "date_local                                                                     \n",
       "2013-01-01                   NaN                   NaN                   NaN   \n",
       "2013-01-02                   NaN                   NaN                   NaN   \n",
       "2013-01-03                   NaN                   NaN                   NaN   \n",
       "2013-01-04                   NaN                   NaN                   NaN   \n",
       "2013-01-05                   NaN                   NaN                   NaN   \n",
       "\n",
       "            aqi_81102 county_81102  city_81102  aqi_max  \n",
       "date_local                                               \n",
       "2013-01-01        NaN          NaN         NaN     52.0  \n",
       "2013-01-02        NaN          NaN         NaN     60.0  \n",
       "2013-01-03        NaN          NaN         NaN     59.0  \n",
       "2013-01-04        NaN          NaN         NaN     64.5  \n",
       "2013-01-05        NaN          NaN         NaN     41.5  \n",
       "\n",
       "[5 rows x 106 columns]"
      ]
     },
     "execution_count": 4,
     "metadata": {},
     "output_type": "execute_result"
    }
   ],
   "source": [
    "# Storing the data in a Pandas DataFrame\n",
    "# Setting the \"date_local\" column as the Datetime Index.\n",
    "\n",
    "new_df = pd.read_csv(\n",
    "    \"Resources/consolidated_seven_ny_counties.csv\",\n",
    "    index_col='date_local',\n",
    "    low_memory=False,\n",
    "    parse_dates=True\n",
    ")\n",
    "\n",
    "# Preview the dataset\n",
    "new_df.head()"
   ]
  },
  {
   "cell_type": "code",
   "execution_count": 5,
   "metadata": {
    "colab": {
     "base_uri": "https://localhost:8080/"
    },
    "executionInfo": {
     "elapsed": 127,
     "status": "ok",
     "timestamp": 1719956556787,
     "user": {
      "displayName": "Chearine P",
      "userId": "14540736819828601911"
     },
     "user_tz": 240
    },
    "id": "Ygw8xZNtIpt5",
    "outputId": "889dee5f-0fd9-4b8f-c744-8e30991f5a6a"
   },
   "outputs": [
    {
     "data": {
      "text/plain": [
       "(28736, 106)"
      ]
     },
     "execution_count": 5,
     "metadata": {},
     "output_type": "execute_result"
    }
   ],
   "source": [
    "new_df.shape"
   ]
  },
  {
   "cell_type": "code",
   "execution_count": 6,
   "metadata": {
    "colab": {
     "base_uri": "https://localhost:8080/"
    },
    "executionInfo": {
     "elapsed": 156,
     "status": "ok",
     "timestamp": 1719956558337,
     "user": {
      "displayName": "Chearine P",
      "userId": "14540736819828601911"
     },
     "user_tz": 240
    },
    "id": "vNwWKrQCJEuZ",
    "outputId": "f6bef4f0-59a7-48ca-e63f-38cf94f52542"
   },
   "outputs": [
    {
     "data": {
      "text/plain": [
       "Index(['county_code', 'parameter_code', 'parameter', 'latitude', 'longitude',\n",
       "       'sample_duration_code', 'units_of_measure', 'observation_count',\n",
       "       'validity_indicator', 'arithmetic_mean',\n",
       "       ...\n",
       "       'units_of_measure_81102', 'observation_count_81102',\n",
       "       'validity_indicator_81102', 'arithmetic_mean_81102',\n",
       "       'first_max_value_81102', 'first_max_hour_81102', 'aqi_81102',\n",
       "       'county_81102', 'city_81102', 'aqi_max'],\n",
       "      dtype='object', length=106)"
      ]
     },
     "execution_count": 6,
     "metadata": {},
     "output_type": "execute_result"
    }
   ],
   "source": [
    "new_df.columns"
   ]
  },
  {
   "cell_type": "code",
   "execution_count": 7,
   "metadata": {
    "colab": {
     "base_uri": "https://localhost:8080/",
     "height": 330
    },
    "executionInfo": {
     "elapsed": 158,
     "status": "ok",
     "timestamp": 1719956576012,
     "user": {
      "displayName": "Chearine P",
      "userId": "14540736819828601911"
     },
     "user_tz": 240
    },
    "id": "BoPvy1w6JNXI",
    "outputId": "08a1a6ae-d762-4f36-807c-d16f1ed8c5aa"
   },
   "outputs": [
    {
     "data": {
      "text/html": [
       "<div>\n",
       "<style scoped>\n",
       "    .dataframe tbody tr th:only-of-type {\n",
       "        vertical-align: middle;\n",
       "    }\n",
       "\n",
       "    .dataframe tbody tr th {\n",
       "        vertical-align: top;\n",
       "    }\n",
       "\n",
       "    .dataframe thead th {\n",
       "        text-align: right;\n",
       "    }\n",
       "</style>\n",
       "<table border=\"1\" class=\"dataframe\">\n",
       "  <thead>\n",
       "    <tr style=\"text-align: right;\">\n",
       "      <th></th>\n",
       "      <th>latitude</th>\n",
       "      <th>longitude</th>\n",
       "      <th>county</th>\n",
       "      <th>aqi_42101</th>\n",
       "      <th>aqi_42401</th>\n",
       "      <th>aqi_44201</th>\n",
       "      <th>aqi_42602</th>\n",
       "      <th>aqi_88502</th>\n",
       "      <th>aqi_max</th>\n",
       "    </tr>\n",
       "    <tr>\n",
       "      <th>date_local</th>\n",
       "      <th></th>\n",
       "      <th></th>\n",
       "      <th></th>\n",
       "      <th></th>\n",
       "      <th></th>\n",
       "      <th></th>\n",
       "      <th></th>\n",
       "      <th></th>\n",
       "      <th></th>\n",
       "    </tr>\n",
       "  </thead>\n",
       "  <tbody>\n",
       "    <tr>\n",
       "      <th>2013-01-01</th>\n",
       "      <td>40.81551</td>\n",
       "      <td>-73.88553</td>\n",
       "      <td>Bronx</td>\n",
       "      <td>4.5</td>\n",
       "      <td>9.8</td>\n",
       "      <td>22.000</td>\n",
       "      <td>23.0</td>\n",
       "      <td>52.0</td>\n",
       "      <td>52.0</td>\n",
       "    </tr>\n",
       "    <tr>\n",
       "      <th>2013-01-02</th>\n",
       "      <td>40.81551</td>\n",
       "      <td>-73.88553</td>\n",
       "      <td>Bronx</td>\n",
       "      <td>6.5</td>\n",
       "      <td>11.4</td>\n",
       "      <td>21.000</td>\n",
       "      <td>26.5</td>\n",
       "      <td>60.0</td>\n",
       "      <td>60.0</td>\n",
       "    </tr>\n",
       "    <tr>\n",
       "      <th>2013-01-03</th>\n",
       "      <td>40.81551</td>\n",
       "      <td>-73.88553</td>\n",
       "      <td>Bronx</td>\n",
       "      <td>6.5</td>\n",
       "      <td>15.0</td>\n",
       "      <td>19.375</td>\n",
       "      <td>35.5</td>\n",
       "      <td>59.0</td>\n",
       "      <td>59.0</td>\n",
       "    </tr>\n",
       "    <tr>\n",
       "      <th>2013-01-04</th>\n",
       "      <td>40.81551</td>\n",
       "      <td>-73.88553</td>\n",
       "      <td>Bronx</td>\n",
       "      <td>7.0</td>\n",
       "      <td>13.0</td>\n",
       "      <td>19.000</td>\n",
       "      <td>36.5</td>\n",
       "      <td>60.0</td>\n",
       "      <td>64.5</td>\n",
       "    </tr>\n",
       "    <tr>\n",
       "      <th>2013-01-05</th>\n",
       "      <td>NaN</td>\n",
       "      <td>NaN</td>\n",
       "      <td>NaN</td>\n",
       "      <td>8.0</td>\n",
       "      <td>10.2</td>\n",
       "      <td>23.500</td>\n",
       "      <td>41.5</td>\n",
       "      <td>NaN</td>\n",
       "      <td>41.5</td>\n",
       "    </tr>\n",
       "  </tbody>\n",
       "</table>\n",
       "</div>"
      ],
      "text/plain": [
       "            latitude  longitude county  aqi_42101  aqi_42401  aqi_44201  \\\n",
       "date_local                                                                \n",
       "2013-01-01  40.81551  -73.88553  Bronx        4.5        9.8     22.000   \n",
       "2013-01-02  40.81551  -73.88553  Bronx        6.5       11.4     21.000   \n",
       "2013-01-03  40.81551  -73.88553  Bronx        6.5       15.0     19.375   \n",
       "2013-01-04  40.81551  -73.88553  Bronx        7.0       13.0     19.000   \n",
       "2013-01-05       NaN        NaN    NaN        8.0       10.2     23.500   \n",
       "\n",
       "            aqi_42602  aqi_88502  aqi_max  \n",
       "date_local                                 \n",
       "2013-01-01       23.0       52.0     52.0  \n",
       "2013-01-02       26.5       60.0     60.0  \n",
       "2013-01-03       35.5       59.0     59.0  \n",
       "2013-01-04       36.5       60.0     64.5  \n",
       "2013-01-05       41.5        NaN     41.5  "
      ]
     },
     "execution_count": 7,
     "metadata": {},
     "output_type": "execute_result"
    }
   ],
   "source": [
    "#Dropping all unnecessary columns and displaying DataFrame\n",
    "selected_columns_df = new_df [['latitude_88502', 'longitude_88502','county_88502', 'aqi','aqi_42401','aqi_44201','aqi_42602','aqi_88502','aqi_max' ]].copy()\n",
    "selected_columns_df.rename(columns={\"aqi\": \"aqi_42101\", 'latitude_88502': 'latitude', 'longitude_88502': 'longitude', 'county_88502': 'county'}, inplace=True)\n",
    "selected_columns_df.head()"
   ]
  },
  {
   "cell_type": "code",
   "execution_count": 8,
   "metadata": {
    "colab": {
     "base_uri": "https://localhost:8080/"
    },
    "executionInfo": {
     "elapsed": 131,
     "status": "ok",
     "timestamp": 1719956580354,
     "user": {
      "displayName": "Chearine P",
      "userId": "14540736819828601911"
     },
     "user_tz": 240
    },
    "id": "bbjkna8bNYQg",
    "outputId": "7cdbd0f0-7198-48af-bb55-c39a9812eacc"
   },
   "outputs": [
    {
     "data": {
      "text/plain": [
       "latitude       692\n",
       "longitude      692\n",
       "county         692\n",
       "aqi_42101     7180\n",
       "aqi_42401    17756\n",
       "aqi_44201    12579\n",
       "aqi_42602    19335\n",
       "aqi_88502      692\n",
       "aqi_max          0\n",
       "dtype: int64"
      ]
     },
     "execution_count": 8,
     "metadata": {},
     "output_type": "execute_result"
    }
   ],
   "source": [
    "# View sum of null values per column\n",
    "selected_columns_df.isnull().sum()"
   ]
  },
  {
   "cell_type": "code",
   "execution_count": 9,
   "metadata": {
    "colab": {
     "base_uri": "https://localhost:8080/"
    },
    "executionInfo": {
     "elapsed": 147,
     "status": "ok",
     "timestamp": 1719956582540,
     "user": {
      "displayName": "Chearine P",
      "userId": "14540736819828601911"
     },
     "user_tz": 240
    },
    "id": "R47qGk65Xs6W",
    "outputId": "f7b4eaa7-1df1-4503-d530-7bf1a21cc0dd"
   },
   "outputs": [
    {
     "data": {
      "text/plain": [
       "latitude         0\n",
       "longitude        0\n",
       "county           0\n",
       "aqi_42101     7180\n",
       "aqi_42401    17756\n",
       "aqi_44201    12579\n",
       "aqi_42602    19335\n",
       "aqi_88502      692\n",
       "aqi_max          0\n",
       "dtype: int64"
      ]
     },
     "execution_count": 9,
     "metadata": {},
     "output_type": "execute_result"
    }
   ],
   "source": [
    "#Fill in blanks in lat, long, and city columns using forward fill\n",
    "selected_columns_df['latitude'] = selected_columns_df['latitude'].ffill()\n",
    "selected_columns_df['longitude'] = selected_columns_df['longitude'].ffill()\n",
    "selected_columns_df['county'] = selected_columns_df['county'].ffill()\n",
    "selected_columns_df.isnull().sum()"
   ]
  },
  {
   "cell_type": "code",
   "execution_count": 10,
   "metadata": {},
   "outputs": [],
   "source": [
    "aqi_columns = [\"aqi_42101\",\"aqi_42401\", \"aqi_44201\", \"aqi_42602\", \"aqi_88502\"]\n",
    "groupby_columns = ['county','date_local']"
   ]
  },
  {
   "cell_type": "code",
   "execution_count": 11,
   "metadata": {},
   "outputs": [],
   "source": [
    "#Function to fill in AQI values\n",
    "def impute_aqi_columns(df, aqi_columns, groupby_columns):\n",
    "    \"\"\"\n",
    "    Impute missing values in AQI columns using a sequence of methods.\n",
    "    \n",
    "    Parameters:\n",
    "    df (pd.DataFrame): The dataframe containing the data.\n",
    "    aqi_columns (list): List of AQI column names to impute.\n",
    "    groupby_columns (list): List of columns to group by for mean imputation.\n",
    "    \n",
    "    Returns:\n",
    "    pd.DataFrame: The dataframe with imputed AQI columns.\n",
    "    \"\"\"\n",
    "    for col in aqi_columns:\n",
    "        # Forward fill and backward fill\n",
    "        df[col] = df[col].ffill().bfill()\n",
    "        \n",
    "        # Interpolation\n",
    "        df[col] = df[col].interpolate(method='time')\n",
    "        \n",
    "        # Mean imputation by category\n",
    "        df[col] = df.groupby(groupby_columns)[col].transform(lambda x: x.fillna(x.mean()))\n",
    "        \n",
    "        # Overall mean imputation\n",
    "        df[col] = df[col].fillna(df[col].mean())\n",
    "    \n",
    "    return df\n",
    "\n"
   ]
  },
  {
   "cell_type": "code",
   "execution_count": 12,
   "metadata": {},
   "outputs": [
    {
     "name": "stdout",
     "output_type": "stream",
     "text": [
      "Missing values after imputation:\n",
      "latitude     0\n",
      "longitude    0\n",
      "county       0\n",
      "aqi_42101    0\n",
      "aqi_42401    0\n",
      "aqi_44201    0\n",
      "aqi_42602    0\n",
      "aqi_88502    0\n",
      "aqi_max      0\n",
      "dtype: int64\n"
     ]
    }
   ],
   "source": [
    "#Apply the function to selected_columns_df.\n",
    "selected_filled_columns_df = impute_aqi_columns(selected_columns_df, aqi_columns, groupby_columns)\n",
    "\n",
    "# Check for missing values\n",
    "print(\"Missing values after imputation:\")\n",
    "print(selected_columns_df.isnull().sum())"
   ]
  },
  {
   "cell_type": "code",
   "execution_count": 13,
   "metadata": {},
   "outputs": [
    {
     "data": {
      "text/html": [
       "<div>\n",
       "<style scoped>\n",
       "    .dataframe tbody tr th:only-of-type {\n",
       "        vertical-align: middle;\n",
       "    }\n",
       "\n",
       "    .dataframe tbody tr th {\n",
       "        vertical-align: top;\n",
       "    }\n",
       "\n",
       "    .dataframe thead th {\n",
       "        text-align: right;\n",
       "    }\n",
       "</style>\n",
       "<table border=\"1\" class=\"dataframe\">\n",
       "  <thead>\n",
       "    <tr style=\"text-align: right;\">\n",
       "      <th></th>\n",
       "      <th>date_local</th>\n",
       "      <th>latitude</th>\n",
       "      <th>longitude</th>\n",
       "      <th>county</th>\n",
       "      <th>aqi_42101</th>\n",
       "      <th>aqi_42401</th>\n",
       "      <th>aqi_44201</th>\n",
       "      <th>aqi_42602</th>\n",
       "      <th>aqi_88502</th>\n",
       "      <th>aqi_max</th>\n",
       "    </tr>\n",
       "  </thead>\n",
       "  <tbody>\n",
       "    <tr>\n",
       "      <th>0</th>\n",
       "      <td>2013-01-01</td>\n",
       "      <td>40.81551</td>\n",
       "      <td>-73.88553</td>\n",
       "      <td>Bronx</td>\n",
       "      <td>4.5</td>\n",
       "      <td>9.8</td>\n",
       "      <td>22.000</td>\n",
       "      <td>23.0</td>\n",
       "      <td>52.0</td>\n",
       "      <td>52.0</td>\n",
       "    </tr>\n",
       "    <tr>\n",
       "      <th>1</th>\n",
       "      <td>2013-01-02</td>\n",
       "      <td>40.81551</td>\n",
       "      <td>-73.88553</td>\n",
       "      <td>Bronx</td>\n",
       "      <td>6.5</td>\n",
       "      <td>11.4</td>\n",
       "      <td>21.000</td>\n",
       "      <td>26.5</td>\n",
       "      <td>60.0</td>\n",
       "      <td>60.0</td>\n",
       "    </tr>\n",
       "    <tr>\n",
       "      <th>2</th>\n",
       "      <td>2013-01-03</td>\n",
       "      <td>40.81551</td>\n",
       "      <td>-73.88553</td>\n",
       "      <td>Bronx</td>\n",
       "      <td>6.5</td>\n",
       "      <td>15.0</td>\n",
       "      <td>19.375</td>\n",
       "      <td>35.5</td>\n",
       "      <td>59.0</td>\n",
       "      <td>59.0</td>\n",
       "    </tr>\n",
       "    <tr>\n",
       "      <th>3</th>\n",
       "      <td>2013-01-04</td>\n",
       "      <td>40.81551</td>\n",
       "      <td>-73.88553</td>\n",
       "      <td>Bronx</td>\n",
       "      <td>7.0</td>\n",
       "      <td>13.0</td>\n",
       "      <td>19.000</td>\n",
       "      <td>36.5</td>\n",
       "      <td>60.0</td>\n",
       "      <td>64.5</td>\n",
       "    </tr>\n",
       "    <tr>\n",
       "      <th>4</th>\n",
       "      <td>2013-01-05</td>\n",
       "      <td>40.81551</td>\n",
       "      <td>-73.88553</td>\n",
       "      <td>Bronx</td>\n",
       "      <td>8.0</td>\n",
       "      <td>10.2</td>\n",
       "      <td>23.500</td>\n",
       "      <td>41.5</td>\n",
       "      <td>60.0</td>\n",
       "      <td>41.5</td>\n",
       "    </tr>\n",
       "  </tbody>\n",
       "</table>\n",
       "</div>"
      ],
      "text/plain": [
       "  date_local  latitude  longitude county  aqi_42101  aqi_42401  aqi_44201  \\\n",
       "0 2013-01-01  40.81551  -73.88553  Bronx        4.5        9.8     22.000   \n",
       "1 2013-01-02  40.81551  -73.88553  Bronx        6.5       11.4     21.000   \n",
       "2 2013-01-03  40.81551  -73.88553  Bronx        6.5       15.0     19.375   \n",
       "3 2013-01-04  40.81551  -73.88553  Bronx        7.0       13.0     19.000   \n",
       "4 2013-01-05  40.81551  -73.88553  Bronx        8.0       10.2     23.500   \n",
       "\n",
       "   aqi_42602  aqi_88502  aqi_max  \n",
       "0       23.0       52.0     52.0  \n",
       "1       26.5       60.0     60.0  \n",
       "2       35.5       59.0     59.0  \n",
       "3       36.5       60.0     64.5  \n",
       "4       41.5       60.0     41.5  "
      ]
     },
     "execution_count": 13,
     "metadata": {},
     "output_type": "execute_result"
    }
   ],
   "source": [
    "selected_filled_columns_df.reset_index(inplace = True)\n",
    "selected_filled_columns_df.head()"
   ]
  },
  {
   "cell_type": "code",
   "execution_count": 14,
   "metadata": {
    "executionInfo": {
     "elapsed": 136,
     "status": "ok",
     "timestamp": 1719963106528,
     "user": {
      "displayName": "Chearine P",
      "userId": "14540736819828601911"
     },
     "user_tz": 240
    },
    "id": "WMaHy0XNwtuG"
   },
   "outputs": [],
   "source": [
    "# Write output file to /Resources folder\n",
    "selected_columns_df.to_csv(\"Resources/consolidated_seven_ny_counties_filled.csv\", index=False)\n",
    "\n"
   ]
  },
  {
   "cell_type": "code",
   "execution_count": null,
   "metadata": {},
   "outputs": [],
   "source": []
  }
 ],
 "metadata": {
  "colab": {
   "authorship_tag": "ABX9TyPEoWLpMHeBA50gMQssuTVJ",
   "provenance": []
  },
  "kernelspec": {
   "display_name": "dev",
   "language": "python",
   "name": "dev"
  },
  "language_info": {
   "codemirror_mode": {
    "name": "ipython",
    "version": 3
   },
   "file_extension": ".py",
   "mimetype": "text/x-python",
   "name": "python",
   "nbconvert_exporter": "python",
   "pygments_lexer": "ipython3",
   "version": "3.10.13"
  }
 },
 "nbformat": 4,
 "nbformat_minor": 4
}
